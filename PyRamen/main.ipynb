{
 "cells": [
  {
   "cell_type": "code",
   "execution_count": 67,
   "metadata": {},
   "outputs": [
    {
     "name": "stdout",
     "output_type": "stream",
     "text": [
      "hi\n"
     ]
    }
   ],
   "source": [
    "# Importing libraries, setting the filepath\n",
    "import csv\n",
    "from pathlib import Path\n",
    "\n",
    "\n",
    "menu_filepath = Path('menu_data.csv')\n",
    "sales_filepath = Path('sales_data.csv')\n",
    "\n",
    "\n",
    "\n",
    "\n",
    "#Assigning values\n",
    "menu = []\n",
    "sales = []\n",
    "report = {\"01-count\": 0, \"02-revenue\": 0, \"03-cogs\": 0, \"04-profit\": 0}\n",
    "\n",
    "#Reading the files and going through it\n",
    "with open(menu_filepath, 'r') as file:\n",
    "    \n",
    "    header= next(file)\n",
    "    first_row=next(file)\n",
    "    \n",
    "    for x in file:\n",
    "        menu.append(x[0])\n",
    "        \n",
    "\n",
    "\n",
    "\n",
    "with open(sales_filepath, 'r') as file2:\n",
    "    \n",
    "    header= next(file2)\n",
    "    first_row=next(file2)\n",
    "    \n",
    "    for x in file2:\n",
    "        sales.append(x[0])\n",
    "\n",
    "\n",
    "\n",
    "\n",
    "\n",
    "\n",
    "        \n",
    "\n",
    "\n",
    "\n",
    "\n"
   ]
  },
  {
   "cell_type": "code",
   "execution_count": null,
   "metadata": {},
   "outputs": [],
   "source": []
  }
 ],
 "metadata": {
  "kernelspec": {
   "display_name": "Python 3",
   "language": "python",
   "name": "python3"
  },
  "language_info": {
   "codemirror_mode": {
    "name": "ipython",
    "version": 3
   },
   "file_extension": ".py",
   "mimetype": "text/x-python",
   "name": "python",
   "nbconvert_exporter": "python",
   "pygments_lexer": "ipython3",
   "version": "3.7.6"
  }
 },
 "nbformat": 4,
 "nbformat_minor": 4
}
