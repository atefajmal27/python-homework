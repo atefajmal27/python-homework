{
 "cells": [
  {
   "cell_type": "code",
   "execution_count": 28,
   "metadata": {},
   "outputs": [
    {
     "name": "stdout",
     "output_type": "stream",
     "text": [
      "Financial Analysis\n",
      "-------------------------------------------------\n",
      "Total Months: 86\n",
      "Total: $38382578\n",
      "Average Change: $-2315\n",
      "Greatest Increase in Profits: Feb-2012 ($1926159)\n",
      "Greatest Decrease in Profits: Sep-2013 ($-2196167)\n"
     ]
    }
   ],
   "source": [
    "import os\n",
    "import csv\n",
    "budget_data = os.path.join(\"budget_data.csv\")\n",
    "\n",
    "#assigning values\n",
    "months = 0\n",
    "pro_lo = 0\n",
    "value = 0\n",
    "change = 0\n",
    "dates = []\n",
    "profits = []\n",
    "\n",
    "#Reading the imported CSV file, skipping the header and first row to get to the data\n",
    "with open(budget_data, newline = \"\") as csvfile:\n",
    "    csvreader = csv.reader(csvfile, delimiter = \",\")\n",
    "\n",
    "    csv_header = next(csvreader)\n",
    "    first_row = next(csvreader)\n",
    "    months += 1\n",
    "    pro_lo += int(first_row[1])\n",
    "    value = int(first_row[1])\n",
    "    \n",
    "    #Looping through the data to find the average changes, highest increase, highest decrease, total months, total profit/loss\n",
    "    for row in csvreader:\n",
    "        dates.append(row[0])\n",
    "        \n",
    "        # Calculating the change, then adding it to list of changes\n",
    "        change = int(row[1])-value\n",
    "        profits.append(change)\n",
    "        value = int(row[1])\n",
    "        \n",
    "        #Number of months in the data\n",
    "        months += 1\n",
    "\n",
    "        #Total profit or loss\n",
    "        pro_lo = pro_lo + int(row[1])\n",
    "\n",
    "    #Highest increase in profits\n",
    "    greatest_increase = max(profits)\n",
    "    greatest_index = profits.index(greatest_increase)\n",
    "    best_date = dates[greatest_index]\n",
    "\n",
    "    #Lowest increase in profits \n",
    "    greatest_decrease = min(profits)\n",
    "    worst_index = profits.index(greatest_decrease)\n",
    "    worst_date = dates[worst_index]\n",
    "\n",
    "    #Average change between months over the whole period\n",
    "    avg_change = sum(profits)/len(profits)\n",
    "    \n",
    "\n",
    "#Printing the financial analysis\n",
    "print(\"Financial Analysis\")\n",
    "print(\"-------------------------------------------------\")\n",
    "print(f\"Total Months: {str(months)}\")\n",
    "print(f\"Total: ${str(pro_lo)}\")\n",
    "print(f\"Average Change: ${str(round(avg_change))}\")\n",
    "print(f\"Greatest Increase in Profits: {best_date} (${str(greatest_increase)})\")\n",
    "print(f\"Greatest Decrease in Profits: {worst_date} (${str(greatest_decrease)})\")\n",
    "\n",
    "\n",
    "#txt file\n",
    "analysis= open('financial_analysis.txt', 'w')\n",
    "analysis.write(f\" Financial Analysis\")\n",
    "analysis.write(f\"\\n -------------------------------------------------\")\n",
    "analysis.write(f\"\\n Total Months: {str(months)}\")\n",
    "analysis.write(f\"\\n Total: ${str(pro_lo)}\")\n",
    "analysis.write(f\"\\n Average Change: ${str(round(avg_change))}\")\n",
    "analysis.write(f\"\\n Greatest Increase in Profits: {best_date} (${str(greatest_increase)})\")\n",
    "analysis.write(f\"\\n Greatest Decrease in Profits: {worst_date} (${str(greatest_decrease)})\")\n",
    "analysis.close()\n",
    "\n"
   ]
  },
  {
   "cell_type": "code",
   "execution_count": null,
   "metadata": {},
   "outputs": [],
   "source": []
  },
  {
   "cell_type": "code",
   "execution_count": null,
   "metadata": {},
   "outputs": [],
   "source": []
  },
  {
   "cell_type": "code",
   "execution_count": null,
   "metadata": {},
   "outputs": [],
   "source": []
  },
  {
   "cell_type": "code",
   "execution_count": null,
   "metadata": {},
   "outputs": [],
   "source": []
  }
 ],
 "metadata": {
  "kernelspec": {
   "display_name": "Python 3",
   "language": "python",
   "name": "python3"
  },
  "language_info": {
   "codemirror_mode": {
    "name": "ipython",
    "version": 3
   },
   "file_extension": ".py",
   "mimetype": "text/x-python",
   "name": "python",
   "nbconvert_exporter": "python",
   "pygments_lexer": "ipython3",
   "version": "3.7.6"
  }
 },
 "nbformat": 4,
 "nbformat_minor": 4
}
